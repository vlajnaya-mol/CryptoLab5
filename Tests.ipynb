{
 "cells": [
  {
   "cell_type": "code",
   "execution_count": 1,
   "metadata": {},
   "outputs": [],
   "source": [
    "import os\n",
    "import time\n",
    "import random\n",
    "import numpy as np\n",
    "from math import sqrt\n",
    "from ElipticCurves import ElipticCurve\n",
    "from GF import generate_gf_class\n",
    "from point import generate_point_class"
   ]
  },
  {
   "cell_type": "code",
   "execution_count": 2,
   "metadata": {},
   "outputs": [],
   "source": [
    "%load_ext autoreload\n",
    "%autoreload 2"
   ]
  },
  {
   "cell_type": "code",
   "execution_count": null,
   "metadata": {},
   "outputs": [],
   "source": []
  },
  {
   "cell_type": "markdown",
   "metadata": {},
   "source": [
    "## TEST BASELINE"
   ]
  },
  {
   "cell_type": "code",
   "execution_count": 3,
   "metadata": {},
   "outputs": [],
   "source": [
    "n = 0x400000000000000000002BEC12BE2262D39BCF14D\n",
    "d = 0x183F60FDF7951FF47D67193F8D073790C1C9B5A3E\n",
    "hT = 0x09C9C44277910C9AAEE486883A2EB95B7180166DDF73532EEB76EDAEF52247FF\n",
    "Ld = 512\n",
    "Ln = n.bit_length()\n",
    "m = 163\n",
    "f = (1 << m) + (1 << 7) + (1 << 6) + (1 << 3) + 1\n",
    "GF = generate_gf_class(m, f)\n",
    "A, B = GF(1), GF(0x5FF6108462A2DC8210AB403925E638A19C1455D21)\n",
    "Point = generate_point_class(GF, A, B)"
   ]
  },
  {
   "cell_type": "code",
   "execution_count": 4,
   "metadata": {},
   "outputs": [],
   "source": [
    "P = Point(GF(0x72D867F93A93AC27DF9FF01AFFE74885C8C540420), GF(0x0224A9C3947852B97C5599D5F4AB81122ADC3FD9B))"
   ]
  },
  {
   "cell_type": "markdown",
   "metadata": {},
   "source": [
    "### Signature generation"
   ]
  },
  {
   "cell_type": "code",
   "execution_count": 5,
   "metadata": {},
   "outputs": [],
   "source": [
    "Q = -P.mul(d)"
   ]
  },
  {
   "cell_type": "code",
   "execution_count": 6,
   "metadata": {},
   "outputs": [],
   "source": [
    "assert Q == Point(GF(0x057DE7FDE023FF929CB6AC785CE4B79CF64ABDC2DA),GF(0x3E85444324BCF06AD85ABF6AD7B5F34770532B9AA))"
   ]
  },
  {
   "cell_type": "code",
   "execution_count": 7,
   "metadata": {},
   "outputs": [],
   "source": [
    "h = GF(0x03A2EB95B7180166DDF73532EEB76EDAEF52247FF)"
   ]
  },
  {
   "cell_type": "code",
   "execution_count": 8,
   "metadata": {},
   "outputs": [],
   "source": [
    "assert GF.to_int(GF(0x09C9C44277910C9AAEE486883A2EB95B7180166DDF73532EEB76EDAEF52247FF), Ln) == 0x03A2EB95B7180166DDF73532EEB76EDAEF52247FF"
   ]
  },
  {
   "cell_type": "code",
   "execution_count": 9,
   "metadata": {},
   "outputs": [],
   "source": [
    "e = 0x1025E40BD97DB012B7A1D79DE8E12932D247F61C6"
   ]
  },
  {
   "cell_type": "code",
   "execution_count": 10,
   "metadata": {},
   "outputs": [],
   "source": [
    "eP = P.mul(e)"
   ]
  },
  {
   "cell_type": "code",
   "execution_count": 11,
   "metadata": {},
   "outputs": [],
   "source": [
    "assert eP==Point(GF(0x42A7D756D70E1C9BA62D2CB43707C35204EF3C67C),GF(0x5310AE5E560464A95DC80286F17EB762EC544B15B))"
   ]
  },
  {
   "cell_type": "code",
   "execution_count": 12,
   "metadata": {},
   "outputs": [],
   "source": [
    "Fe = eP.x"
   ]
  },
  {
   "cell_type": "code",
   "execution_count": 13,
   "metadata": {},
   "outputs": [],
   "source": [
    "y = h * Fe"
   ]
  },
  {
   "cell_type": "code",
   "execution_count": 14,
   "metadata": {},
   "outputs": [],
   "source": [
    "assert y == GF(0x274EA2C0CAA014A0D80A424F59ADE7A93068D08A7)"
   ]
  },
  {
   "cell_type": "code",
   "execution_count": 15,
   "metadata": {},
   "outputs": [],
   "source": [
    "r = GF.to_int(y, Ln)"
   ]
  },
  {
   "cell_type": "code",
   "execution_count": 16,
   "metadata": {},
   "outputs": [],
   "source": [
    "s = e + d * r % n"
   ]
  },
  {
   "cell_type": "code",
   "execution_count": 17,
   "metadata": {},
   "outputs": [],
   "source": [
    "assert s == 0x2100D86957331832B8E8C230F5BD6A332B3615ACA"
   ]
  },
  {
   "cell_type": "code",
   "execution_count": 18,
   "metadata": {},
   "outputs": [],
   "source": [
    "D = ElipticCurve.concat_to_signature(r, s, Ld)"
   ]
  },
  {
   "cell_type": "code",
   "execution_count": 19,
   "metadata": {},
   "outputs": [],
   "source": [
    "assert D == 0x000000000000000000000002100D86957331832B8E8C230F5BD6A332B3615ACA00000000000000000000000274EA2C0CAA014A0D80A424F59ADE7A93068D08A7"
   ]
  },
  {
   "cell_type": "markdown",
   "metadata": {},
   "source": [
    "### Done"
   ]
  },
  {
   "cell_type": "code",
   "execution_count": 20,
   "metadata": {},
   "outputs": [],
   "source": [
    "old_r, old_s = r, s\n",
    "old_y = y"
   ]
  },
  {
   "cell_type": "markdown",
   "metadata": {},
   "source": [
    "### Checking"
   ]
  },
  {
   "cell_type": "code",
   "execution_count": 21,
   "metadata": {},
   "outputs": [],
   "source": [
    "r, s = ElipticCurve.split_signature(D, Ld)"
   ]
  },
  {
   "cell_type": "code",
   "execution_count": 22,
   "metadata": {},
   "outputs": [],
   "source": [
    "assert (r, s) == (old_r, old_s)"
   ]
  },
  {
   "cell_type": "code",
   "execution_count": 23,
   "metadata": {},
   "outputs": [],
   "source": [
    "R = P.mul(s) + Q.mul(r)"
   ]
  },
  {
   "cell_type": "code",
   "execution_count": 24,
   "metadata": {},
   "outputs": [],
   "source": [
    "assert R == Point(GF(0x42A7D756D70E1C9BA62D2CB43707C35204EF3C67C),GF(0x5310AE5E560464A95DC80286F17EB762EC544B15B))"
   ]
  },
  {
   "cell_type": "code",
   "execution_count": 25,
   "metadata": {},
   "outputs": [],
   "source": [
    "y = h * R.x"
   ]
  },
  {
   "cell_type": "code",
   "execution_count": 26,
   "metadata": {},
   "outputs": [],
   "source": [
    "assert y == old_y"
   ]
  },
  {
   "cell_type": "code",
   "execution_count": 27,
   "metadata": {},
   "outputs": [],
   "source": [
    "r_hat = GF.to_int(y, Ln)"
   ]
  },
  {
   "cell_type": "code",
   "execution_count": 28,
   "metadata": {},
   "outputs": [],
   "source": [
    "assert r == r_hat"
   ]
  },
  {
   "cell_type": "code",
   "execution_count": null,
   "metadata": {},
   "outputs": [],
   "source": []
  },
  {
   "cell_type": "markdown",
   "metadata": {},
   "source": [
    "## Test my variant"
   ]
  },
  {
   "cell_type": "code",
   "execution_count": 29,
   "metadata": {},
   "outputs": [],
   "source": [
    "m = 167\n",
    "f = 2**167 + 2**6 + 1\n",
    "A, B = 1, 0x6EE3CEEB230811759F20518A0930F1A4315A827DAC\n",
    "n = 0x3FFFFFFFFFFFFFFFFFFFFFB12EBCC7D7F29FF7701F\n",
    "Ln = n.bit_length()\n",
    "Ld = 512\n",
    "# assert Ld >= 2 * Ln"
   ]
  },
  {
   "cell_type": "code",
   "execution_count": 30,
   "metadata": {},
   "outputs": [],
   "source": [
    "curve = ElipticCurve(m, f, A, B, n, Ld)"
   ]
  },
  {
   "cell_type": "code",
   "execution_count": 31,
   "metadata": {},
   "outputs": [],
   "source": [
    "GF = generate_gf_class(m, f)\n",
    "GF8 = generate_gf_class(8, (1 << 8) + (1 << 4) + (1 <<3) + (1 << 1) + 1)"
   ]
  },
  {
   "cell_type": "markdown",
   "metadata": {},
   "source": [
    "### Test GF multiplication"
   ]
  },
  {
   "cell_type": "code",
   "execution_count": 32,
   "metadata": {},
   "outputs": [],
   "source": [
    "a = GF8(0x53)\n",
    "b = GF8(0xCA)\n",
    "assert a * b == GF8(1)"
   ]
  },
  {
   "cell_type": "markdown",
   "metadata": {},
   "source": [
    "### Test pow"
   ]
  },
  {
   "cell_type": "code",
   "execution_count": 33,
   "metadata": {},
   "outputs": [],
   "source": [
    "for _ in range(10):\n",
    "    n1 = GF.random() \n",
    "    exp = random.randint(1, 100)\n",
    "    \n",
    "    p = n1\n",
    "    for i in range(exp - 1):\n",
    "        p *= n1\n",
    "    assert n1.pow(exp) == p"
   ]
  },
  {
   "cell_type": "markdown",
   "metadata": {},
   "source": [
    "### Test GF inverse"
   ]
  },
  {
   "cell_type": "code",
   "execution_count": 34,
   "metadata": {},
   "outputs": [],
   "source": [
    "for _ in range(10):\n",
    "    number = GF.random() \n",
    "    assert number * number.inverse() == GF(1) or number == GF(0)"
   ]
  },
  {
   "cell_type": "markdown",
   "metadata": {},
   "source": [
    "### Test point on curve"
   ]
  },
  {
   "cell_type": "code",
   "execution_count": 35,
   "metadata": {},
   "outputs": [],
   "source": [
    "for _ in range(10):\n",
    "    curve.point_on_curve(curve.random_point())"
   ]
  },
  {
   "cell_type": "markdown",
   "metadata": {},
   "source": [
    "## Test signing"
   ]
  },
  {
   "cell_type": "code",
   "execution_count": 36,
   "metadata": {},
   "outputs": [
    {
     "name": "stdout",
     "output_type": "stream",
     "text": [
      "Good...\n",
      "Good...\n",
      "Good...\n",
      "Good...\n",
      "Good...\n",
      "Good...\n",
      "Good...\n",
      "Good...\n",
      "Good...\n",
      "Good...\n"
     ]
    }
   ],
   "source": [
    "for _ in range(10):\n",
    "    print(\"Good...\")\n",
    "    private_k = curve.gen_private_k()\n",
    "    public_k = curve.gen_public_k(private_k)\n",
    "    \n",
    "    message = os.urandom(10000)\n",
    "    T, D = curve.sign(message, private_k)\n",
    "    assert curve.check_signature(T, D, public_k), \"bad signature!\""
   ]
  },
  {
   "cell_type": "code",
   "execution_count": null,
   "metadata": {},
   "outputs": [],
   "source": []
  },
  {
   "cell_type": "code",
   "execution_count": null,
   "metadata": {},
   "outputs": [],
   "source": []
  },
  {
   "cell_type": "code",
   "execution_count": null,
   "metadata": {},
   "outputs": [],
   "source": [
    "    "
   ]
  }
 ],
 "metadata": {
  "kernelspec": {
   "display_name": "Python 3",
   "language": "python",
   "name": "python3"
  },
  "language_info": {
   "codemirror_mode": {
    "name": "ipython",
    "version": 3
   },
   "file_extension": ".py",
   "mimetype": "text/x-python",
   "name": "python",
   "nbconvert_exporter": "python",
   "pygments_lexer": "ipython3",
   "version": "3.7.4"
  }
 },
 "nbformat": 4,
 "nbformat_minor": 2
}
